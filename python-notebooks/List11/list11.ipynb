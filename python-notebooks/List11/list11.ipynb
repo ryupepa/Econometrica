{
 "cells": [
  {
   "cell_type": "code",
   "execution_count": 10,
   "id": "e5404b64",
   "metadata": {},
   "outputs": [],
   "source": [
    "import pandas as pd\n",
    "import numpy as np\n",
    "import statsmodels.formula.api as smf\n",
    "import seaborn as sns\n",
    "import matplotlib.pyplot as plt\n",
    "import scipy.stats as stats"
   ]
  },
  {
   "cell_type": "code",
   "execution_count": 19,
   "id": "d98329a7",
   "metadata": {},
   "outputs": [],
   "source": [
    "df = pd.read_csv('https://raw.githubusercontent.com/artamonoff/Econometrica/master/python-notebooks/data-csv/Labour.csv')"
   ]
  },
  {
   "cell_type": "code",
   "execution_count": 30,
   "id": "b09c442a",
   "metadata": {},
   "outputs": [
    {
     "data": {
      "text/html": [
       "<table class=\"simpletable\">\n",
       "<caption>OLS Regression Results</caption>\n",
       "<tr>\n",
       "  <th>Dep. Variable:</th>     <td>np.log(output)</td>  <th>  R-squared:         </th> <td>   0.855</td> \n",
       "</tr>\n",
       "<tr>\n",
       "  <th>Model:</th>                   <td>OLS</td>       <th>  Adj. R-squared:    </th> <td>   0.854</td> \n",
       "</tr>\n",
       "<tr>\n",
       "  <th>Method:</th>             <td>Least Squares</td>  <th>  F-statistic:       </th> <td>   553.3</td> \n",
       "</tr>\n",
       "<tr>\n",
       "  <th>Date:</th>             <td>Sun, 07 May 2023</td> <th>  Prob (F-statistic):</th> <td>1.30e-193</td>\n",
       "</tr>\n",
       "<tr>\n",
       "  <th>Time:</th>                 <td>00:34:49</td>     <th>  Log-Likelihood:    </th> <td> -353.28</td> \n",
       "</tr>\n",
       "<tr>\n",
       "  <th>No. Observations:</th>      <td>   569</td>      <th>  AIC:               </th> <td>   716.6</td> \n",
       "</tr>\n",
       "<tr>\n",
       "  <th>Df Residuals:</th>          <td>   564</td>      <th>  BIC:               </th> <td>   738.3</td> \n",
       "</tr>\n",
       "<tr>\n",
       "  <th>Df Model:</th>              <td>     4</td>      <th>                     </th>     <td> </td>    \n",
       "</tr>\n",
       "<tr>\n",
       "  <th>Covariance Type:</th>         <td>HC3</td>       <th>                     </th>     <td> </td>    \n",
       "</tr>\n",
       "</table>\n",
       "<table class=\"simpletable\">\n",
       "<tr>\n",
       "             <td></td>                <th>coef</th>     <th>std err</th>      <th>z</th>      <th>P>|z|</th>  <th>[0.025</th>    <th>0.975]</th>  \n",
       "</tr>\n",
       "<tr>\n",
       "  <th>Intercept</th>               <td>   -1.3039</td> <td>    0.493</td> <td>   -2.643</td> <td> 0.008</td> <td>   -2.271</td> <td>   -0.337</td>\n",
       "</tr>\n",
       "<tr>\n",
       "  <th>np.log(capital)</th>         <td>    0.1831</td> <td>    0.029</td> <td>    6.215</td> <td> 0.000</td> <td>    0.125</td> <td>    0.241</td>\n",
       "</tr>\n",
       "<tr>\n",
       "  <th>np.log(labour)</th>          <td>    0.5153</td> <td>    0.206</td> <td>    2.497</td> <td> 0.013</td> <td>    0.111</td> <td>    0.920</td>\n",
       "</tr>\n",
       "<tr>\n",
       "  <th>I(np.log(capital) ** 2)</th> <td>    0.0227</td> <td>    0.008</td> <td>    2.737</td> <td> 0.006</td> <td>    0.006</td> <td>    0.039</td>\n",
       "</tr>\n",
       "<tr>\n",
       "  <th>I(np.log(labour) ** 2)</th>  <td>    0.0203</td> <td>    0.021</td> <td>    0.965</td> <td> 0.334</td> <td>   -0.021</td> <td>    0.061</td>\n",
       "</tr>\n",
       "</table>\n",
       "<table class=\"simpletable\">\n",
       "<tr>\n",
       "  <th>Omnibus:</th>       <td>202.378</td> <th>  Durbin-Watson:     </th> <td>   1.925</td>\n",
       "</tr>\n",
       "<tr>\n",
       "  <th>Prob(Omnibus):</th> <td> 0.000</td>  <th>  Jarque-Bera (JB):  </th> <td>2899.488</td>\n",
       "</tr>\n",
       "<tr>\n",
       "  <th>Skew:</th>          <td> 1.152</td>  <th>  Prob(JB):          </th> <td>    0.00</td>\n",
       "</tr>\n",
       "<tr>\n",
       "  <th>Kurtosis:</th>      <td>13.816</td>  <th>  Cond. No.          </th> <td>    270.</td>\n",
       "</tr>\n",
       "</table><br/><br/>Notes:<br/>[1] Standard Errors are heteroscedasticity robust (HC3)"
      ],
      "text/plain": [
       "<class 'statsmodels.iolib.summary.Summary'>\n",
       "\"\"\"\n",
       "                            OLS Regression Results                            \n",
       "==============================================================================\n",
       "Dep. Variable:         np.log(output)   R-squared:                       0.855\n",
       "Model:                            OLS   Adj. R-squared:                  0.854\n",
       "Method:                 Least Squares   F-statistic:                     553.3\n",
       "Date:                Sun, 07 May 2023   Prob (F-statistic):          1.30e-193\n",
       "Time:                        00:34:49   Log-Likelihood:                -353.28\n",
       "No. Observations:                 569   AIC:                             716.6\n",
       "Df Residuals:                     564   BIC:                             738.3\n",
       "Df Model:                           4                                         \n",
       "Covariance Type:                  HC3                                         \n",
       "===========================================================================================\n",
       "                              coef    std err          z      P>|z|      [0.025      0.975]\n",
       "-------------------------------------------------------------------------------------------\n",
       "Intercept                  -1.3039      0.493     -2.643      0.008      -2.271      -0.337\n",
       "np.log(capital)             0.1831      0.029      6.215      0.000       0.125       0.241\n",
       "np.log(labour)              0.5153      0.206      2.497      0.013       0.111       0.920\n",
       "I(np.log(capital) ** 2)     0.0227      0.008      2.737      0.006       0.006       0.039\n",
       "I(np.log(labour) ** 2)      0.0203      0.021      0.965      0.334      -0.021       0.061\n",
       "==============================================================================\n",
       "Omnibus:                      202.378   Durbin-Watson:                   1.925\n",
       "Prob(Omnibus):                  0.000   Jarque-Bera (JB):             2899.488\n",
       "Skew:                           1.152   Prob(JB):                         0.00\n",
       "Kurtosis:                      13.816   Cond. No.                         270.\n",
       "==============================================================================\n",
       "\n",
       "Notes:\n",
       "[1] Standard Errors are heteroscedasticity robust (HC3)\n",
       "\"\"\""
      ]
     },
     "execution_count": 30,
     "metadata": {},
     "output_type": "execute_result"
    }
   ],
   "source": [
    "model = smf.ols(data=df, formula='np.log(output)~np.log(capital)+np.log(labour)+I(np.log(capital)**2)+I(np.log(labour)**2)').fit(cov_type='HC3')\n",
    "model.summary()"
   ]
  },
  {
   "cell_type": "code",
   "execution_count": 5,
   "id": "bd357cda",
   "metadata": {},
   "outputs": [],
   "source": [
    "# Для того, чтобы проверить наличие гетероскедастичности с помощью теста Бройша-Пагана,\n",
    "# необходимо построить вспомогательную регрессию,\n",
    "#зависимой переменной в которой будут квадраты остатков исходной регресси.\n",
    "I(age**2)"
   ]
  },
  {
   "cell_type": "markdown",
   "id": "f330311d",
   "metadata": {},
   "source": [
    "$$e_i = y_i - \\hat{y}_i$$\n",
    "$$\n",
    "e_i^2 = \\gamma_0 + \\gamma_1*totwrk+age+\\gamma_2*I(age**2)+\\gamma_3*male+\\gamma_3*smsa+\\gamma_4*south\n",
    "$$"
   ]
  },
  {
   "cell_type": "code",
   "execution_count": 6,
   "id": "cfcc3f76",
   "metadata": {},
   "outputs": [],
   "source": [
    "# квадраты остатков добавим в датафрейм, воспользовавшись методом '.resid', возвращающий значения остатков\n",
    "df['res2']=model.resid**2\n",
    "df['res']=model.resid"
   ]
  },
  {
   "cell_type": "code",
   "execution_count": 7,
   "id": "a4466c43",
   "metadata": {},
   "outputs": [],
   "source": [
    " sub_model= smf.ols(data=df, formula='res2~totwrk+age+I(age**2)+male+smsa+south').fit()"
   ]
  },
  {
   "cell_type": "markdown",
   "id": "d310485b",
   "metadata": {},
   "source": [
    "## Сформулируем проверямемую гипотезу, о характере зависимости дисперсии ошибок от факторов регресси\n",
    "$$\n",
    "H_0: \\sigma_i^2 \\equiv \\sigma^2=f(\\gamma_0),\n",
    "$$\n",
    "$$\n",
    "H_1:\\sigma_i^2 = f(\\gamma_0 + z_{i1}\\gamma_1 + z_{i2}*\\gamma_2 + \\dots + \\gamma_{ip}\\gamma_p).\n",
    "$$\n",
    "### Другими словами, значимость вспомогательной регресси в целом, т.е.\n",
    "$$\n",
    "H_0: \\gamma_1=\\gamma_2=\\gamma_3=\\gamma_4=\\gamma_5=\\gamma_6=0,\n",
    "$$\n",
    "$$\n",
    "H_1:  \\gamma_1^2+\\gamma_2^2+\\gamma_3^2+\\gamma_4^2+\\gamma_5^2+\\gamma_6^2>0.\n",
    "$$"
   ]
  },
  {
   "cell_type": "markdown",
   "id": "e678785d",
   "metadata": {},
   "source": [
    "### При справедливости нулевой гипотезы статистика $n*R_0^2 $ имеет распределение хи-квадрат:\n",
    "$$\n",
    "nR_0^2 \\approx_{H_0} \\chi^2_p\n",
    "$$"
   ]
  },
  {
   "cell_type": "code",
   "execution_count": 8,
   "id": "92a1c8d5",
   "metadata": {},
   "outputs": [
    {
     "data": {
      "text/plain": [
       "8.31"
      ]
     },
     "execution_count": 8,
     "metadata": {},
     "output_type": "execute_result"
    }
   ],
   "source": [
    "St = np.round(len(df)*sub_model.rsquared,2)\n",
    "St"
   ]
  },
  {
   "cell_type": "code",
   "execution_count": 9,
   "id": "744afa3f",
   "metadata": {},
   "outputs": [
    {
     "data": {
      "text/plain": [
       "12.591587243743977"
      ]
     },
     "execution_count": 9,
     "metadata": {},
     "output_type": "execute_result"
    }
   ],
   "source": [
    "Hi2 = stats.chi2.ppf(1-0.05,6)\n",
    "Hi2"
   ]
  },
  {
   "cell_type": "markdown",
   "id": "89ef7a7d",
   "metadata": {},
   "source": [
    "$$\n",
    "nR_0^2 < \\chi_p^2.\n",
    "$$\n",
    "### Нет оснований отвергнуть нулевую гипотезу. Тест указывает на гомоскедастичность."
   ]
  },
  {
   "cell_type": "code",
   "execution_count": null,
   "id": "74002dde",
   "metadata": {},
   "outputs": [],
   "source": []
  }
 ],
 "metadata": {
  "kernelspec": {
   "display_name": "Python 3 (ipykernel)",
   "language": "python",
   "name": "python3"
  },
  "language_info": {
   "codemirror_mode": {
    "name": "ipython",
    "version": 3
   },
   "file_extension": ".py",
   "mimetype": "text/x-python",
   "name": "python",
   "nbconvert_exporter": "python",
   "pygments_lexer": "ipython3",
   "version": "3.8.8"
  }
 },
 "nbformat": 4,
 "nbformat_minor": 5
}
